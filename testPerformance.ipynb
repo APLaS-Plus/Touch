{
 "cells": [
  {
   "cell_type": "code",
   "execution_count": 3,
   "metadata": {
    "is_executing": true
   },
   "outputs": [
    {
     "name": "stdout",
     "output_type": "stream",
     "text": [
      "\n",
      "WARNING  imgsz=[1920, 1080] must be multiple of max stride 32, updating to [1920, 1088]\n",
      "0: 640x1088 (no detections), 122.3ms\n",
      "Speed: 4.0ms preprocess, 122.3ms inference, 0.0ms postprocess per image at shape (1, 3, 640, 1088)\n",
      "\n",
      "WARNING  imgsz=[1920, 1080] must be multiple of max stride 32, updating to [1920, 1088]\n",
      "0: 640x1088 1 puzzle, 1 arrow, 100.5ms\n",
      "Speed: 6.6ms preprocess, 100.5ms inference, 1.0ms postprocess per image at shape (1, 3, 640, 1088)\n"
     ]
    },
    {
     "data": {
      "text/plain": [
       "array([562, 660,  72,  68])"
      ]
     },
     "metadata": {},
     "output_type": "display_data"
    },
    {
     "data": {
      "text/plain": [
       "array([833, 540, 114, 108])"
      ]
     },
     "metadata": {},
     "output_type": "display_data"
    },
    {
     "ename": "KeyboardInterrupt",
     "evalue": "",
     "output_type": "error",
     "traceback": [
      "\u001b[1;31m---------------------------------------------------------------------------\u001b[0m",
      "\u001b[1;31mKeyboardInterrupt\u001b[0m                         Traceback (most recent call last)",
      "Cell \u001b[1;32mIn[3], line 47\u001b[0m\n\u001b[0;32m     44\u001b[0m     cv2\u001b[38;5;241m.\u001b[39mrectangle(screen, (\u001b[38;5;28mint\u001b[39m(x1), \u001b[38;5;28mint\u001b[39m(y1)), (\u001b[38;5;28mint\u001b[39m(x2), \u001b[38;5;28mint\u001b[39m(y2)), (\u001b[38;5;241m0\u001b[39m, \u001b[38;5;241m255\u001b[39m, \u001b[38;5;241m0\u001b[39m), \u001b[38;5;241m2\u001b[39m)\n\u001b[0;32m     46\u001b[0m show(screen)\n\u001b[1;32m---> 47\u001b[0m \u001b[43mtime\u001b[49m\u001b[38;5;241;43m.\u001b[39;49m\u001b[43msleep\u001b[49m\u001b[43m(\u001b[49m\u001b[38;5;241;43m2\u001b[39;49m\u001b[43m)\u001b[49m\n",
      "\u001b[1;31mKeyboardInterrupt\u001b[0m: "
     ]
    }
   ],
   "source": [
    "import cv2\n",
    "import numpy as np\n",
    "from ultralytics import YOLO\n",
    "import pyautogui as auto\n",
    "from yaml import safe_load\n",
    "import time\n",
    "\n",
    "\n",
    "def show(img) -> None:\n",
    "    cv2.namedWindow(\"Screen\")\n",
    "    cv2.imshow(\"Screen\", cv2.cvtColor(np.array(img), cv2.COLOR_BGR2RGB))\n",
    "    cv2.waitKey(0)\n",
    "    cv2.destroyAllWindows()\n",
    "\n",
    "\n",
    "with open('.//config//runConfig.yaml', 'r') as f:\n",
    "        config = safe_load(f)\n",
    "model = YOLO(config['model'], task='detect')\n",
    "screenX, screenY = auto.size()\n",
    "\n",
    "while True:\n",
    "    # detect the blank puzzle\n",
    "    screen = cv2.cvtColor(np.array(auto.screenshot()), cv2.COLOR_RGB2BGR)\n",
    "    result = model(\n",
    "        screen,\n",
    "        task=\"detect\",\n",
    "        device=config[\"device\"],\n",
    "        conf=config[\"conf\"],\n",
    "        max_det=config[\"max_det\"],\n",
    "        imgsz=(screenX, screenY),\n",
    "        iou=config[\"NMS\"],\n",
    "        stream=False,\n",
    "    )[0]\n",
    "    # display(result.boxes)\n",
    "        \n",
    "    if result.boxes.cls.numel() > 0:\n",
    "        arrowXywh = result.boxes.xywh[result.boxes.cls == config['classes']['arrow']].cpu().numpy().astype(int)[0]\n",
    "        puzzleXywh = result.boxes.xywh[result.boxes.cls == config['classes']['puzzle']].cpu().numpy().astype(int)[0]\n",
    "        display(arrowXywh)\n",
    "        # Draw bounding boxes on the screen image\n",
    "    for box in result.boxes.xyxy:\n",
    "        x1, y1, x2, y2 = box\n",
    "        cv2.rectangle(screen, (int(x1), int(y1)), (int(x2), int(y2)), (0, 255, 0), 2)\n",
    "    \n",
    "    show(screen)\n",
    "    time.sleep(2)"
   ]
  },
  {
   "cell_type": "code",
   "execution_count": null,
   "metadata": {
    "collapsed": false,
    "is_executing": true
   },
   "outputs": [],
   "source": [
    "from ultralytics import YOLO\n",
    "datasetYaml = \".//config//puzzleBlockDatasets.yaml\"\n",
    "def test():\n",
    "    # Run batched inference on a list of images\n",
    "    results = model.val(data=datasetYaml,device='cpu',conf=0.8,max_det=1)"
   ]
  },
  {
   "cell_type": "code",
   "execution_count": null,
   "metadata": {
    "ExecuteTime": {
     "end_time": "2024-10-19T07:07:34.417623Z",
     "start_time": "2024-10-19T07:02:32.193720Z"
    },
    "collapsed": false
   },
   "outputs": [],
   "source": [
    "# Load a model\n",
    "model = YOLO(\".//models//puzzle_s.onnx\",task='detect')  # pretrained YOLO11n model\n",
    "\n",
    "%timeit test()"
   ]
  },
  {
   "cell_type": "code",
   "execution_count": null,
   "metadata": {
    "ExecuteTime": {
     "start_time": "2024-10-19T07:07:34.418624Z"
    },
    "collapsed": false,
    "is_executing": true
   },
   "outputs": [],
   "source": [
    "# Load a model\n",
    "model = YOLO(\".//models//puzzle_s_openvino_model\",task='detect')  # pretrained YOLO11n model\n",
    "\n",
    "%timeit test()"
   ]
  },
  {
   "cell_type": "code",
   "execution_count": null,
   "metadata": {
    "ExecuteTime": {
     "end_time": "2024-10-19T07:16:48.890868Z",
     "start_time": "2024-10-19T07:15:26.729231Z"
    },
    "collapsed": false
   },
   "outputs": [],
   "source": [
    "from ultralytics import YOLO\n",
    "\n",
    "# Load a model\n",
    "model = YOLO(\".//models//puzzle_s.pt\",task='detect')  # pretrained YOLO11n model\n",
    "\n",
    "%timeit test()"
   ]
  },
  {
   "cell_type": "code",
   "execution_count": null,
   "metadata": {
    "collapsed": false
   },
   "outputs": [],
   "source": []
  }
 ],
 "metadata": {
  "kernelspec": {
   "display_name": ".venv",
   "language": "python",
   "name": "python3"
  },
  "language_info": {
   "codemirror_mode": {
    "name": "ipython",
    "version": 3
   },
   "file_extension": ".py",
   "mimetype": "text/x-python",
   "name": "python",
   "nbconvert_exporter": "python",
   "pygments_lexer": "ipython3",
   "version": "3.11.4"
  }
 },
 "nbformat": 4,
 "nbformat_minor": 2
}
